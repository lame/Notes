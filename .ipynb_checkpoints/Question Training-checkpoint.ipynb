{
 "cells": [
  {
   "cell_type": "markdown",
   "metadata": {},
   "source": [
    "# Notes for the Interview"
   ]
  },
  {
   "cell_type": "markdown",
   "metadata": {},
   "source": [
    "### Notes on Python Classes"
   ]
  },
  {
   "cell_type": "markdown",
   "metadata": {},
   "source": [
    "- Methods are functions that are contained in a class\n",
    "- MetaClass:\n",
    "      \n",
    "      \n",
    "      \n",
    "- AbstractClass:\n",
    "    \n",
    "      @staticmethod is a good replacement for class vars so they are immutable unless subclassed\n",
    "    \n",
    "      @classmethod and @abstractmethod method decorators are to be used in inheritance of an abstract base class\n",
    "      \n",
    "      classmethod should be used when an attribute is being checked e.g. Vehicle.is_motorcycle\n",
    "\n",
    "      Python abstract classes and interfaces are one in the same as the language does not support any differentiation between the two, duck typing\n",
    "      \n",
    "- Magic Methods:\n",
    "<img src=\"https://blog.ionelmc.ro/2015/02/09/understanding-python-metaclasses/class-creation.png\" />\n",
    "\n",
    "      ** Steps 2 -> 5 are the same as Instance creation, except with Class and MetaClass swimlanes\n",
    "\n",
    "      __new__ is the constructor. __new__ only uses static lookup so it will NOT call the metaclass\n",
    "      \n",
    "      __init__ is the initializer, instance is already created when __init__ is called, that's why self.foo = bar works in the def __init__() method\n",
    "      \n",
    "      __prepare__ is a python3 only magic method. returns the namespace object, must return a dictionary like obj\n",
    "      \n",
    "      "
   ]
  },
  {
   "cell_type": "markdown",
   "metadata": {},
   "source": [
    "### All subsets of a given set:"
   ]
  },
  {
   "cell_type": "code",
   "execution_count": 11,
   "metadata": {
    "collapsed": false
   },
   "outputs": [],
   "source": [
    "from itertools import chain, combinations\n",
    "\n",
    "def ps(iter):\n",
    "    \"\"\"\n",
    "    PowerSet method usage: List(ps(iterable e.g. 'abcde'))\n",
    "    :param iter: any iterable, whether a string, a list of ints, etc.\n",
    "    \"\"\"\n",
    "    xs = list(iter)\n",
    "    # len(xs) + 1 allows for the empty set and the complete set. index can be tweaked if empty set is not necessary\n",
    "    return chain.from_iterable(combinations(xs, n) for n in range(len(xs)+1))"
   ]
  },
  {
   "cell_type": "code",
   "execution_count": 12,
   "metadata": {
    "collapsed": false
   },
   "outputs": [
    {
     "data": {
      "text/plain": [
       "[(),\n",
       " ('a',),\n",
       " ('b',),\n",
       " ('c',),\n",
       " ('d',),\n",
       " ('a', 'b'),\n",
       " ('a', 'c'),\n",
       " ('a', 'd'),\n",
       " ('b', 'c'),\n",
       " ('b', 'd'),\n",
       " ('c', 'd'),\n",
       " ('a', 'b', 'c'),\n",
       " ('a', 'b', 'd'),\n",
       " ('a', 'c', 'd'),\n",
       " ('b', 'c', 'd'),\n",
       " ('a', 'b', 'c', 'd')]"
      ]
     },
     "execution_count": 12,
     "metadata": {},
     "output_type": "execute_result"
    }
   ],
   "source": [
    "list(ps(\"abcd\"))"
   ]
  },
  {
   "cell_type": "markdown",
   "metadata": {},
   "source": [
    "Writeup:\n",
    "\n",
    "    Chain will chain together iterables into a simgle output\n",
    "    Combinations will create all the permutations of a given input, so it just needs to be fed the input and the number to combine being an iterable"
   ]
  },
  {
   "cell_type": "markdown",
   "metadata": {},
   "source": [
    "### LRU Cache Implementation"
   ]
  },
  {
   "cell_type": "code",
   "execution_count": 13,
   "metadata": {
    "collapsed": true
   },
   "outputs": [],
   "source": [
    "from collections import OrderedDict\n",
    "\n",
    "class LRUCache:\n",
    "    def __init__(self, capacity):\n",
    "        \"\"\"\n",
    "        :type capacity: int\n",
    "        \"\"\"\n",
    "        self.capacity = capacity\n",
    "        self.cache = OrderedDict()\n",
    "        \n",
    "    def get(self, key):\n",
    "        \"\"\"\n",
    "        get method does not need to worry about anything other than retrieval\n",
    "        :type key: int\n",
    "        :rtype: int\n",
    "        \"\"\"\n",
    "        try:\n",
    "            value = self.cache.pop(key)\n",
    "            self.cache[key] = value\n",
    "            return value\n",
    "        except KeyError:\n",
    "            return -1\n",
    "    \n",
    "    def set(self, key, value):\n",
    "        \"\"\"\n",
    "        set method will attempt to retrieve the ket and update the value, reordering the cache.\n",
    "            If the key is not available, it will create a new entry on the cache and delete the\n",
    "            least recently used entry if self.capacity is violated\n",
    "        :type key: int\n",
    "        :type value: int\n",
    "        :rtype: None\n",
    "        \"\"\"\n",
    "        try:\n",
    "            self.cache.pop(key)\n",
    "        except KeyError:\n",
    "            if len(self.cache) >= self.capacity:\n",
    "                # The popitem() method for ordered dictionaries returns and removes a \n",
    "                # (key, value) pair. The pairs are returned in LIFO order if last is true \n",
    "                # or FIFO order if false.\n",
    "                self.cache.popitem(last=False)\n",
    "        self.cache[key] = value"
   ]
  },
  {
   "cell_type": "markdown",
   "metadata": {},
   "source": [
    "Writeup:\n",
    "\n",
    "    Pretty simple result, all the magic is in the OrderedDict handling the entries, and popping the OrderedDict on every entry. I think that would be the most likely candidate to refactor, though lookup is really speedy."
   ]
  },
  {
   "cell_type": "markdown",
   "metadata": {},
   "source": [
    "### Word Break"
   ]
  },
  {
   "cell_type": "code",
   "execution_count": 15,
   "metadata": {
    "collapsed": false
   },
   "outputs": [],
   "source": [
    "from itertools import combinations\n",
    "import pdb\n",
    "\n",
    "class Solution(object):\n",
    "    def wordBreak(self, s, word_dict):\n",
    "        \"\"\"\n",
    "        :type s: str\n",
    "        :type wordDict: Set[str]\n",
    "        :rtype: bool\n",
    "        \"\"\"\n",
    "        if not s:\n",
    "            return True\n",
    "        if not word_dict:\n",
    "            return False\n",
    "        word_set = set()\n",
    "        s_dup = s\n",
    "        for index, word in enumerate(word_dict):\n",
    "            if word in s_dup:\n",
    "                word_set.add(word)\n",
    "                s_dup = s_dup.replace(word, '')\n",
    "        if len(s_dup) == 0:\n",
    "            print('True')\n",
    "            return True\n",
    "        nd = [word for word in word_dict if word not in word_set]\n",
    "        if not nd or nd == word_dict:\n",
    "            print('False')\n",
    "            return False\n",
    "        self.wordBreak(s, nd)"
   ]
  },
  {
   "cell_type": "code",
   "execution_count": 17,
   "metadata": {
    "collapsed": false
   },
   "outputs": [
    {
     "name": "stdout",
     "output_type": "stream",
     "text": [
      "True\n"
     ]
    }
   ],
   "source": [
    "Solution().wordBreak('cars', ['car', 'ca', 'rs'])"
   ]
  },
  {
   "cell_type": "markdown",
   "metadata": {},
   "source": [
    "Writeup:\n",
    "    \n",
    "    When doing a recursive method, make sure to end on the recursion and not on a conditional where False could be the outcome, gets a little confusing.\n",
    "    \n",
    "    List comprehension was a pain because I couldn't properly do it in the recursion call, but that ended up being useful as I could track the delta between nd(new dict) and word_dict"
   ]
  },
  {
   "cell_type": "markdown",
   "metadata": {},
   "source": [
    "### Word Pattern"
   ]
  },
  {
   "cell_type": "code",
   "execution_count": 2,
   "metadata": {
    "collapsed": false
   },
   "outputs": [],
   "source": [
    "class Solution(object):\n",
    "    def wordPattern(self, pattern, str):\n",
    "        \"\"\"\n",
    "        :type pattern: str\n",
    "        :type str: str\n",
    "        :rtype: bool\n",
    "        \"\"\"\n",
    "        print(len(pattern), ' ', len(str))\n",
    "        if not pattern or not str or len(pattern) != len(str.split()):\n",
    "            return False\n",
    "        zipped = set(zip([letter for letter in pattern], str.split()))\n",
    "        lst1, lst2 = zip(*zipped)\n",
    "        lst1 = {x for x in lst1}\n",
    "        lst2 = {x for x in lst2}\n",
    "        return len(zipped) == len(lst1) == len(lst2)"
   ]
  },
  {
   "cell_type": "code",
   "execution_count": 3,
   "metadata": {
    "collapsed": false
   },
   "outputs": [
    {
     "name": "stdout",
     "output_type": "stream",
     "text": [
      "3   15\n"
     ]
    },
    {
     "data": {
      "text/plain": [
       "False"
      ]
     },
     "execution_count": 3,
     "metadata": {},
     "output_type": "execute_result"
    }
   ],
   "source": [
    "Solution().wordPattern('aaa', 'dog dog dog dog')"
   ]
  },
  {
   "cell_type": "markdown",
   "metadata": {},
   "source": [
    "### Binary Search Tree Implementation"
   ]
  },
  {
   "cell_type": "markdown",
   "metadata": {},
   "source": [
    "Review:\n",
    "\n",
    "BST functions on all notes to the left of the parent being less than the parent and all to the right being greater than the parent.\n",
    "\n",
    "Binary search table is a tree of depth Log<sub>2</sub>(n)+1, which means that Big O complexity is a function of tree height, O(h) and height simplifies to Log<sub>2</sub>(n). Therefore worst-case search time of the function is O(Log<sub>2</sub>(n))\n",
    "\n",
    "\n"
   ]
  },
  {
   "cell_type": "markdown",
   "metadata": {},
   "source": [
    "<img src=\"https://www.tutorialspoint.com/data_structures_algorithms/images/binary_search_tree.jpg\" />"
   ]
  },
  {
   "cell_type": "code",
   "execution_count": 48,
   "metadata": {
    "collapsed": false
   },
   "outputs": [
    {
     "data": {
      "text/plain": [
       "<itertools.chain at 0x106190048>"
      ]
     },
     "execution_count": 48,
     "metadata": {},
     "output_type": "execute_result"
    }
   ],
   "source": [
    "from itertools import chain\n",
    "chain({'meat', 'leet'}, 12)"
   ]
  },
  {
   "cell_type": "markdown",
   "metadata": {},
   "source": [
    "### Divisible Sum Pairs"
   ]
  },
  {
   "cell_type": "code",
   "execution_count": 12,
   "metadata": {
    "collapsed": false
   },
   "outputs": [
    {
     "name": "stdout",
     "output_type": "stream",
     "text": [
      "<generator object combos at 0x1069707e0>\n"
     ]
    }
   ],
   "source": [
    "from itertools import combinations\n",
    "\n",
    "a = [1, 3, 2, 6, 1, 2,]\n",
    "n = 6\n",
    "k = 3\n",
    "\n",
    "def combos(lst):\n",
    "    while lst:\n",
    "        pair = lst.pop[0]\n",
    "        yield(pair[0] + pair[1] % k == 0)\n",
    "\n",
    "def main():\n",
    "    print(combos(list(combinations(a, 2))))\n",
    "    \n",
    "if __name__ == \"__main__\":\n",
    "    main()"
   ]
  },
  {
   "cell_type": "markdown",
   "metadata": {},
   "source": [
    "### Heap Tree Implementation"
   ]
  },
  {
   "cell_type": "code",
   "execution_count": 13,
   "metadata": {
    "collapsed": false
   },
   "outputs": [
    {
     "data": {
      "text/plain": [
       "0"
      ]
     },
     "execution_count": 13,
     "metadata": {},
     "output_type": "execute_result"
    }
   ],
   "source": [
    "3 % 3"
   ]
  },
  {
   "cell_type": "markdown",
   "metadata": {},
   "source": [
    "Review:\n",
    "\n",
    "    Hash Table implementation\n",
    "    B-Tree\n",
    "    Levenshtein distance\n",
    "    Hamming Distance\n",
    "    Heap implementation"
   ]
  },
  {
   "cell_type": "code",
   "execution_count": null,
   "metadata": {
    "collapsed": true
   },
   "outputs": [],
   "source": []
  }
 ],
 "metadata": {
  "kernelspec": {
   "display_name": "Python 3",
   "language": "python",
   "name": "python3"
  },
  "language_info": {
   "codemirror_mode": {
    "name": "ipython",
    "version": 3
   },
   "file_extension": ".py",
   "mimetype": "text/x-python",
   "name": "python",
   "nbconvert_exporter": "python",
   "pygments_lexer": "ipython3",
   "version": "3.4.3"
  }
 },
 "nbformat": 4,
 "nbformat_minor": 0
}
